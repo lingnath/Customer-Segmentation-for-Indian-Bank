{
 "cells": [
  {
   "cell_type": "markdown",
   "id": "4da54c39",
   "metadata": {},
   "source": [
    "## Introduction and Motivation "
   ]
  },
  {
   "cell_type": "markdown",
   "id": "632793d0",
   "metadata": {},
   "source": [
    "This project consists of a transactional database for a bank in India. The objective is to segment the different customer groups based on transactional activity and customer demographics. Because understanding your customers is paramount to improving customer acquisition and retention, conducting a customer segmentation analysis can provide opportunities to deliver more personalized services to the bank's customer base."
   ]
  },
  {
   "cell_type": "markdown",
   "id": "489ec859",
   "metadata": {},
   "source": [
    "## Table of Contents"
   ]
  },
  {
   "cell_type": "markdown",
   "id": "c8372ba3",
   "metadata": {},
   "source": [
    "<a href='#1.0'><b><h2>1.0 Load Data<b></a><br>\n",
    "<a href='#2.0'><b><h2>2.0 EDA<b></a><br>\n",
    "<a href='#3.0'><b><h2>3.0 Imputing Null Values<b></a><br>\n",
    "<a href='#4.0'><b><h2>4.0 Feature Engineering<b></a><br>\n",
    "<a href='#4.1'><b><h3>4.1 Hour of Day<b></a><br>\n",
    "<a href='#4.2'><b><h3>4.2 Customer Age<b></a><br>\n",
    "<a href='#4.3'><b><h3>4.3 City Size<b></a><br>\n",
    "<a href='#4.4'><b><h3>4.4 Regions of India<b></a><br>\n",
    "<a href='#4.5'><b><h3>4.5 Number of Transactions<b></a><br>\n",
    "<a href='#5.0'><b><h2>5.0 Data Consolidation<b></a><br>\n",
    "<a href='#6.0'><b><h2>6.0 Data Sampling<b></a><br>\n",
    "<a href='#7.0'><b><h2>7.0 Outlier Removal and Feature Scaling<b></a><br>\n",
    "<a href='#8.0'><b><h2>8.0 Algorithm Hyperparameter Tuning<b></a><br>\n",
    "<a href='#9.0'><b><h2>9.0 Final Model<b></a><br>\n",
    "<a href='#10.0'><b><h2>10.0 Post Hoc Analyses<b></a><br>\n",
    "<a href='#10.1'><b><h3>10.1 Key Insights<b></a><br>\n",
    "<a href='#10.2'><b><h3>10.2 Cluster Groups<b></a><br>\n",
    "<a href='#10.3'><b><h3>10.3 Cluster Specific Marketing Strategies<b></a><br>\n",
    "<a href='#10.4'><b><h3>10.4 Customer Acquisition Strategies<b></a><br>"
   ]
  },
  {
   "cell_type": "markdown",
   "id": "a404b82b",
   "metadata": {},
   "source": [
    "<a id='1.0'></a>\n",
    "## 1.0 Load Data"
   ]
  },
  {
   "cell_type": "code",
   "execution_count": 1,
   "id": "033b3cbc",
   "metadata": {},
   "outputs": [],
   "source": [
    "import pandas as pd\n",
    "import numpy as np\n",
    "import matplotlib.pyplot as plt\n",
    "import matplotlib.pylab as pylab"
   ]
  },
  {
   "cell_type": "code",
   "execution_count": 2,
   "id": "83ecba89",
   "metadata": {},
   "outputs": [],
   "source": [
    "transactions_df=pd.read_csv('bank_transactions.csv')"
   ]
  },
  {
   "cell_type": "code",
   "execution_count": 3,
   "id": "9c8974d9",
   "metadata": {},
   "outputs": [
    {
     "data": {
      "text/html": [
       "<div>\n",
       "<style scoped>\n",
       "    .dataframe tbody tr th:only-of-type {\n",
       "        vertical-align: middle;\n",
       "    }\n",
       "\n",
       "    .dataframe tbody tr th {\n",
       "        vertical-align: top;\n",
       "    }\n",
       "\n",
       "    .dataframe thead th {\n",
       "        text-align: right;\n",
       "    }\n",
       "</style>\n",
       "<table border=\"1\" class=\"dataframe\">\n",
       "  <thead>\n",
       "    <tr style=\"text-align: right;\">\n",
       "      <th></th>\n",
       "      <th>TransactionID</th>\n",
       "      <th>CustomerID</th>\n",
       "      <th>CustomerDOB</th>\n",
       "      <th>CustGender</th>\n",
       "      <th>CustLocation</th>\n",
       "      <th>CustAccountBalance</th>\n",
       "      <th>TransactionDate</th>\n",
       "      <th>TransactionTime</th>\n",
       "      <th>TransactionAmount (INR)</th>\n",
       "    </tr>\n",
       "  </thead>\n",
       "  <tbody>\n",
       "    <tr>\n",
       "      <th>0</th>\n",
       "      <td>T1</td>\n",
       "      <td>C5841053</td>\n",
       "      <td>10/1/94</td>\n",
       "      <td>F</td>\n",
       "      <td>JAMSHEDPUR</td>\n",
       "      <td>17819.05</td>\n",
       "      <td>2/8/16</td>\n",
       "      <td>143207</td>\n",
       "      <td>25.0</td>\n",
       "    </tr>\n",
       "    <tr>\n",
       "      <th>1</th>\n",
       "      <td>T2</td>\n",
       "      <td>C2142763</td>\n",
       "      <td>4/4/57</td>\n",
       "      <td>M</td>\n",
       "      <td>JHAJJAR</td>\n",
       "      <td>2270.69</td>\n",
       "      <td>2/8/16</td>\n",
       "      <td>141858</td>\n",
       "      <td>27999.0</td>\n",
       "    </tr>\n",
       "    <tr>\n",
       "      <th>2</th>\n",
       "      <td>T3</td>\n",
       "      <td>C4417068</td>\n",
       "      <td>26/11/96</td>\n",
       "      <td>F</td>\n",
       "      <td>MUMBAI</td>\n",
       "      <td>17874.44</td>\n",
       "      <td>2/8/16</td>\n",
       "      <td>142712</td>\n",
       "      <td>459.0</td>\n",
       "    </tr>\n",
       "    <tr>\n",
       "      <th>3</th>\n",
       "      <td>T4</td>\n",
       "      <td>C5342380</td>\n",
       "      <td>14/9/73</td>\n",
       "      <td>F</td>\n",
       "      <td>MUMBAI</td>\n",
       "      <td>866503.21</td>\n",
       "      <td>2/8/16</td>\n",
       "      <td>142714</td>\n",
       "      <td>2060.0</td>\n",
       "    </tr>\n",
       "    <tr>\n",
       "      <th>4</th>\n",
       "      <td>T5</td>\n",
       "      <td>C9031234</td>\n",
       "      <td>24/3/88</td>\n",
       "      <td>F</td>\n",
       "      <td>NAVI MUMBAI</td>\n",
       "      <td>6714.43</td>\n",
       "      <td>2/8/16</td>\n",
       "      <td>181156</td>\n",
       "      <td>1762.5</td>\n",
       "    </tr>\n",
       "  </tbody>\n",
       "</table>\n",
       "</div>"
      ],
      "text/plain": [
       "  TransactionID CustomerID CustomerDOB CustGender CustLocation  \\\n",
       "0            T1   C5841053     10/1/94          F   JAMSHEDPUR   \n",
       "1            T2   C2142763      4/4/57          M      JHAJJAR   \n",
       "2            T3   C4417068    26/11/96          F       MUMBAI   \n",
       "3            T4   C5342380     14/9/73          F       MUMBAI   \n",
       "4            T5   C9031234     24/3/88          F  NAVI MUMBAI   \n",
       "\n",
       "   CustAccountBalance TransactionDate  TransactionTime  \\\n",
       "0            17819.05          2/8/16           143207   \n",
       "1             2270.69          2/8/16           141858   \n",
       "2            17874.44          2/8/16           142712   \n",
       "3           866503.21          2/8/16           142714   \n",
       "4             6714.43          2/8/16           181156   \n",
       "\n",
       "   TransactionAmount (INR)  \n",
       "0                     25.0  \n",
       "1                  27999.0  \n",
       "2                    459.0  \n",
       "3                   2060.0  \n",
       "4                   1762.5  "
      ]
     },
     "execution_count": 3,
     "metadata": {},
     "output_type": "execute_result"
    }
   ],
   "source": [
    "transactions_df.head()"
   ]
  },
  {
   "cell_type": "markdown",
   "id": "bf44e13d",
   "metadata": {},
   "source": [
    "There are 1048567 transactions in total"
   ]
  },
  {
   "cell_type": "code",
   "execution_count": 4,
   "id": "7d38d16e",
   "metadata": {},
   "outputs": [
    {
     "data": {
      "text/plain": [
       "(1048567, 9)"
      ]
     },
     "execution_count": 4,
     "metadata": {},
     "output_type": "execute_result"
    }
   ],
   "source": [
    "transactions_df.shape"
   ]
  },
  {
   "cell_type": "code",
   "execution_count": 5,
   "id": "076ad78d",
   "metadata": {
    "scrolled": true
   },
   "outputs": [
    {
     "name": "stdout",
     "output_type": "stream",
     "text": [
      "<class 'pandas.core.frame.DataFrame'>\n",
      "RangeIndex: 1048567 entries, 0 to 1048566\n",
      "Data columns (total 9 columns):\n",
      " #   Column                   Non-Null Count    Dtype  \n",
      "---  ------                   --------------    -----  \n",
      " 0   TransactionID            1048567 non-null  object \n",
      " 1   CustomerID               1048567 non-null  object \n",
      " 2   CustomerDOB              1045170 non-null  object \n",
      " 3   CustGender               1047467 non-null  object \n",
      " 4   CustLocation             1048416 non-null  object \n",
      " 5   CustAccountBalance       1046198 non-null  float64\n",
      " 6   TransactionDate          1048567 non-null  object \n",
      " 7   TransactionTime          1048567 non-null  int64  \n",
      " 8   TransactionAmount (INR)  1048567 non-null  float64\n",
      "dtypes: float64(2), int64(1), object(6)\n",
      "memory usage: 72.0+ MB\n"
     ]
    }
   ],
   "source": [
    "transactions_df.info()"
   ]
  },
  {
   "cell_type": "markdown",
   "id": "7f91af12",
   "metadata": {},
   "source": [
    "Given that although there's null values, the percentage of nulls is very low. Hence, mean/median/mode imputation can be done for the features with null values."
   ]
  },
  {
   "cell_type": "code",
   "execution_count": 15,
   "id": "75baa815",
   "metadata": {},
   "outputs": [
    {
     "data": {
      "text/plain": [
       "TransactionID               0.0%\n",
       "CustomerID                  0.0%\n",
       "CustomerDOB                0.32%\n",
       "CustGender                  0.1%\n",
       "CustLocation               0.01%\n",
       "CustAccountBalance         0.23%\n",
       "TransactionDate             0.0%\n",
       "TransactionTime             0.0%\n",
       "TransactionAmount (INR)     0.0%\n",
       "dtype: object"
      ]
     },
     "execution_count": 15,
     "metadata": {},
     "output_type": "execute_result"
    }
   ],
   "source": [
    "((transactions_df.isnull().sum()/transactions_df.shape[0])*100).apply(lambda x:str(round(x,2))+'%')"
   ]
  },
  {
   "cell_type": "markdown",
   "id": "ebe13cdf",
   "metadata": {},
   "source": [
    "<a id='2.0'></a>\n",
    "## 2.0 EDA\n",
    "\n",
    "This section explores the dataset so that we can clean it up as well as generate new features that could enrich the customer segementation analysis."
   ]
  },
  {
   "cell_type": "markdown",
   "id": "2ab8b4e8",
   "metadata": {},
   "source": [
    "There are 884265 unique customers. Given that the number of transactions is greater than number of unique customers, some customers may have made more than 1 purchase in the timeframe of this dataset."
   ]
  },
  {
   "cell_type": "code",
   "execution_count": 7,
   "id": "8dab68a9",
   "metadata": {},
   "outputs": [
    {
     "data": {
      "text/plain": [
       "884265"
      ]
     },
     "execution_count": 7,
     "metadata": {},
     "output_type": "execute_result"
    }
   ],
   "source": [
    "transactions_df['CustomerID'].nunique()"
   ]
  },
  {
   "cell_type": "markdown",
   "id": "a4575698",
   "metadata": {},
   "source": [
    "There are 9355 distinct customer locations. We may need to bucket customer locations into regions for analysis."
   ]
  },
  {
   "cell_type": "code",
   "execution_count": 8,
   "id": "71984dfe",
   "metadata": {},
   "outputs": [
    {
     "data": {
      "text/plain": [
       "9355"
      ]
     },
     "execution_count": 8,
     "metadata": {},
     "output_type": "execute_result"
    }
   ],
   "source": [
    "transactions_df['CustLocation'].nunique()"
   ]
  },
  {
   "cell_type": "markdown",
   "id": "5395f207",
   "metadata": {},
   "source": [
    "Identifying top 10 cities with most customers.\n",
    "\n",
    "**Insights:** The cities with most customers are in the major cities and the country capital, with that being major financial centers such as Mumbai and Gurgaon."
   ]
  },
  {
   "cell_type": "code",
   "execution_count": 11,
   "id": "9b3ad83a",
   "metadata": {},
   "outputs": [
    {
     "data": {
      "image/png": "[encoded data removed]",
      "text/plain": [
       "<Figure size 432x288 with 1 Axes>"
      ]
     },
     "metadata": {
      "needs_background": "light"
     },
     "output_type": "display_data"
    }
   ],
   "source": [
    "transactions_df.drop_duplicates(subset=['CustomerID'])['CustLocation'].value_counts()[:10].plot(kind='bar');\n",
    "plt.title('Top 10 Indian Cities with Most Customers');\n",
    "plt.ylabel('Number of Customers');\n",
    "plt.xlabel('City');"
   ]
  },
  {
   "cell_type": "markdown",
   "id": "d6b4673d",
   "metadata": {},
   "source": [
    "This table has transactions spanning from August 1 to October 21, 2016, a 2.5 month period."
   ]
  },
  {
   "cell_type": "code",
   "execution_count": 10,
   "id": "5b3eefb3",
   "metadata": {},
   "outputs": [
    {
     "data": {
      "text/plain": [
       "array(['2/8/16', '1/8/16', '3/8/16', '5/8/16', '4/8/16', '6/8/16',\n",
       "       '9/8/16', '8/8/16', '12/8/16', '7/8/16', '21/10/16', '16/10/16',\n",
       "       '10/8/16', '14/8/16', '17/8/16', '21/8/16', '19/8/16', '24/8/16',\n",
       "       '22/8/16', '29/8/16', '31/8/16', '22/9/16', '23/9/16', '13/8/16',\n",
       "       '25/8/16', '28/8/16', '15/8/16', '27/8/16', '20/8/16', '23/8/16',\n",
       "       '30/8/16', '11/8/16', '16/8/16', '26/8/16', '27/9/16', '18/8/16',\n",
       "       '25/9/16', '26/9/16', '30/9/16', '3/9/16', '2/9/16', '1/9/16',\n",
       "       '6/9/16', '5/9/16', '4/9/16', '9/9/16', '8/9/16', '7/9/16',\n",
       "       '12/9/16', '11/9/16', '10/9/16', '15/9/16', '14/9/16', '13/9/16',\n",
       "       '18/9/16'], dtype=object)"
      ]
     },
     "execution_count": 10,
     "metadata": {},
     "output_type": "execute_result"
    }
   ],
   "source": [
    "transactions_df['TransactionDate'].unique()"
   ]
  },
  {
   "cell_type": "markdown",
   "id": "6b5cf39a",
   "metadata": {},
   "source": [
    "The transaction time most likely represents the time of day given that the maximum likely means 23:59:59, or 11:59:59pm. Given this information, we can create a feature that represents the time of day the transaction was made."
   ]
  },
  {
   "cell_type": "code",
   "execution_count": 11,
   "id": "b7daed4c",
   "metadata": {},
   "outputs": [
    {
     "data": {
      "text/plain": [
       "min         0\n",
       "max    235959\n",
       "Name: TransactionTime, dtype: int64"
      ]
     },
     "execution_count": 11,
     "metadata": {},
     "output_type": "execute_result"
    }
   ],
   "source": [
    "transactions_df['TransactionTime'].agg({'min','max'})"
   ]
  },
  {
   "cell_type": "markdown",
   "id": "62d58c58",
   "metadata": {},
   "source": [
    "Given that the format for the customer date of birth is \"dd/mm/yy\", we can extract the year of birth by getting the numbers after the last '/'."
   ]
  },
  {
   "cell_type": "code",
   "execution_count": 12,
   "id": "1b6253d5",
   "metadata": {},
   "outputs": [
    {
     "data": {
      "text/plain": [
       "0     10/1/94\n",
       "1      4/4/57\n",
       "2    26/11/96\n",
       "3     14/9/73\n",
       "4     24/3/88\n",
       "Name: CustomerDOB, dtype: object"
      ]
     },
     "execution_count": 12,
     "metadata": {},
     "output_type": "execute_result"
    }
   ],
   "source": [
    "transactions_df['CustomerDOB'].head()"
   ]
  },
  {
   "cell_type": "markdown",
   "id": "1c85eae5",
   "metadata": {},
   "source": [
    "Visualizing the gender distribution of the customer base.\n",
    "\n",
    "The majority of customers are male."
   ]
  },
  {
   "cell_type": "code",
   "execution_count": 13,
   "id": "98a59284",
   "metadata": {},
   "outputs": [
    {
     "data": {
      "image/png": "[encoded data removed]",
      "text/plain": [
       "<Figure size 432x288 with 1 Axes>"
      ]
     },
     "metadata": {
      "needs_background": "light"
     },
     "output_type": "display_data"
    }
   ],
   "source": [
    "((transactions_df.drop_duplicates(subset=['CustomerID'])['CustGender'].value_counts(normalize=True))*100).plot(kind='bar');\n",
    "plt.title('Customer Gender Distribution');\n",
    "plt.ylabel('Percentage');\n",
    "plt.xlabel('Customer Gender');"
   ]
  },
  {
   "cell_type": "markdown",
   "id": "cd1f93ac",
   "metadata": {},
   "source": [
    "Displaying the customer account balance distribution and the maximum customer account balance. \n",
    "\n",
    "**Insights:** We see that the majority of customers have a bank balance of less than 25000 (INR). We also see that there are severe outliers in the dataset given the discrepency between the maximum and the values seen in the plot."
   ]
  },
  {
   "cell_type": "code",
   "execution_count": 14,
   "id": "b67038ca",
   "metadata": {},
   "outputs": [
    {
     "data": {
      "text/plain": [
       "115035495.1"
      ]
     },
     "execution_count": 14,
     "metadata": {},
     "output_type": "execute_result"
    }
   ],
   "source": [
    "transactions_df['CustAccountBalance'].max()"
   ]
  },
  {
   "cell_type": "code",
   "execution_count": 15,
   "id": "6cd791c0",
   "metadata": {},
   "outputs": [
    {
     "data": {
      "image/png": "[encoded data removed]",
      "text/plain": [
       "<Figure size 432x288 with 1 Axes>"
      ]
     },
     "metadata": {
      "needs_background": "light"
     },
     "output_type": "display_data"
    }
   ],
   "source": [
    "transactions_df['CustAccountBalance'][transactions_df['CustAccountBalance']<200000].plot(kind='hist');\n",
    "plt.title('Distribution of Customer Account Balance (INR)');\n",
    "plt.xlabel('Account Balance (INR)');"
   ]
  },
  {
   "cell_type": "markdown",
   "id": "085ccbc3",
   "metadata": {},
   "source": [
    "Displaying the transaction amount distribution and maximum transaction amount. \n",
    "\n",
    "**Insights:** We see that the majority of customers transact less than 1000 (INR). We also see that there are severe outliers in the dataset given the discrepency between the maximum and the values seen in the plot"
   ]
  },
  {
   "cell_type": "code",
   "execution_count": 16,
   "id": "46618644",
   "metadata": {},
   "outputs": [
    {
     "data": {
      "text/plain": [
       "1560034.99"
      ]
     },
     "execution_count": 16,
     "metadata": {},
     "output_type": "execute_result"
    }
   ],
   "source": [
    "transactions_df['TransactionAmount (INR)'].max()"
   ]
  },
  {
   "cell_type": "code",
   "execution_count": 17,
   "id": "84426b25",
   "metadata": {},
   "outputs": [
    {
     "data": {
      "image/png": "[encoded data removed]",
      "text/plain": [
       "<Figure size 432x288 with 1 Axes>"
      ]
     },
     "metadata": {
      "needs_background": "light"
     },
     "output_type": "display_data"
    }
   ],
   "source": [
    "transactions_df['TransactionAmount (INR)'][transactions_df['TransactionAmount (INR)']<5000].plot(kind='hist');\n",
    "plt.title('Distribution of Transaction Amounts (INR)');\n",
    "plt.xlabel('Transaction Amount (INR)');"
   ]
  },
  {
   "cell_type": "markdown",
   "id": "0637b091",
   "metadata": {},
   "source": [
    "<a id='3.0'></a>\n",
    "## 3.0 Imputing null values\n",
    "\n",
    "Given the outliers in the numerical data, median rather than mean imputation would be more suitable. As for the categorical features, mode imputation will be most appropriate."
   ]
  },
  {
   "cell_type": "code",
   "execution_count": 32,
   "id": "63b50955",
   "metadata": {},
   "outputs": [],
   "source": [
    "most_common_gender=transactions_df['CustGender'].mode().values[0]\n",
    "transactions_df['CustGender']=transactions_df['CustGender'].fillna(most_common_gender)"
   ]
  },
  {
   "cell_type": "code",
   "execution_count": 33,
   "id": "90676e67",
   "metadata": {},
   "outputs": [],
   "source": [
    "avg_cust_acct_balance=transactions_df['CustAccountBalance'].median()\n",
    "transactions_df['CustAccountBalance']=transactions_df['CustAccountBalance'].fillna(avg_cust_acct_balance)"
   ]
  },
  {
   "cell_type": "code",
   "execution_count": 34,
   "id": "0a4f57d6",
   "metadata": {},
   "outputs": [],
   "source": [
    "most_common_location=transactions_df['CustLocation'].mode().values[0]\n",
    "transactions_df['CustLocation']=transactions_df['CustLocation'].fillna(most_common_location)"
   ]
  },
  {
   "cell_type": "markdown",
   "id": "0cfebe09",
   "metadata": {},
   "source": [
    "<a id='4.0'></a>\n",
    "## 4.0 Feature Engineering"
   ]
  },
  {
   "cell_type": "markdown",
   "id": "a7238231",
   "metadata": {},
   "source": [
    "### 4.1 Hour of Day\n",
    "\n",
    "Because India follows one time zone, we do not need to be concerned with time zone variations.\n",
    "\n",
    "**Insights:** Most customers make transactions in the evening hours."
   ]
  },
  {
   "cell_type": "code",
   "execution_count": 35,
   "id": "955f54de",
   "metadata": {},
   "outputs": [],
   "source": [
    "transactions_df['Hour']=transactions_df['TransactionTime']//10000"
   ]
  },
  {
   "cell_type": "code",
   "execution_count": 36,
   "id": "f9656e33",
   "metadata": {},
   "outputs": [
    {
     "data": {
      "image/png": "[encoded data removed]",
      "text/plain": [
       "<Figure size 432x288 with 1 Axes>"
      ]
     },
     "metadata": {
      "needs_background": "light"
     },
     "output_type": "display_data"
    }
   ],
   "source": [
    "transactions_df['Hour'].value_counts().reindex(range(0,24)).plot(kind='bar');\n",
    "plt.title('Distribution of Transaction Times');\n",
    "plt.xlabel('Hour');"
   ]
  },
  {
   "cell_type": "markdown",
   "id": "c8d6428f",
   "metadata": {},
   "source": [
    "### 4.2 Customer Age\n",
    "\n",
    "To obtain the customer's age, we first extract their year of birth."
   ]
  },
  {
   "cell_type": "code",
   "execution_count": 37,
   "id": "40ac5434",
   "metadata": {},
   "outputs": [],
   "source": [
    "transactions_df['Customer_YOB']=transactions_df['CustomerDOB'].apply(lambda x: int(x.split('/')[-1]) if pd.notna(x) else np.nan)"
   ]
  },
  {
   "cell_type": "markdown",
   "id": "8f6eadd6",
   "metadata": {},
   "source": [
    "Displaying the year of birth. We see that it spans from 0 to 99, with the exception of 1800 and nulls. The years from 0-99 either represent a date in the 20th or 21st century.\n",
    "\n",
    "**Insights:** The year of birth is almost continuous with the exception of '17. We can safely assume that because this dataset covers transactions in 2016, any date lower or equal to '16 comprises of bank accounts for people born in the 21th century and 20th century for everyone else. It is more likely that parents are opening bank accounts for their kids rather than the situation of senior citizens over 100 years old having bank accounts. This is because the percentage of Indian centenarians are nearly 0. It is even more unlikely that a centenarian happened to be a customer of this bank in particular who made a transaction between August and October of 2016. The gap in '17 could be that there is no one who was born in 1917 who has a bank account and made a transaction. <br>\n",
    "Source: https://en.wikipedia.org/wiki/Demographics_of_India"
   ]
  },
  {
   "cell_type": "code",
   "execution_count": 38,
   "id": "445bd410",
   "metadata": {},
   "outputs": [
    {
     "name": "stdout",
     "output_type": "stream",
     "text": [
      "[0.0, 4.0, 21.0, 32.0, 41.0, 43.0, 47.0, 51.0, 53.0, 54.0, 56.0, 57.0, 59.0, 60.0, 65.0, 66.0, 67.0, 68.0, 69.0, 70.0, 71.0, 72.0, 73.0, 74.0, 75.0, 76.0, 77.0, 78.0, 79.0, 80.0, 81.0, 82.0, 83.0, 84.0, 85.0, 86.0, 87.0, 88.0, 89.0, 90.0, 91.0, 92.0, 93.0, 94.0, 95.0, 96.0, 97.0, 98.0, 99.0, 1800.0, nan, 1.0, 2.0, 3.0, 5.0, 6.0, 7.0, 8.0, 9.0, 10.0, 11.0, 12.0, 13.0, 14.0, 15.0, 16.0, 18.0, 19.0, 20.0, 22.0, 23.0, 24.0, 25.0, 26.0, 27.0, 28.0, 29.0, 30.0, 31.0, 33.0, 34.0, 35.0, 36.0, 37.0, 38.0, 39.0, 40.0, 42.0, 44.0, 45.0, 46.0, 48.0, 49.0, 50.0, 52.0, 55.0, 58.0, 61.0, 62.0, 63.0, 64.0]\n"
     ]
    }
   ],
   "source": [
    "print(sorted(transactions_df['Customer_YOB'].unique()))"
   ]
  },
  {
   "cell_type": "markdown",
   "id": "8cc64afe",
   "metadata": {},
   "source": [
    "Based on the DOB, 1/1/1800 is usually a placeholder for null values. Given this finding, we can safely assume 1800 YOB can be transformed to nulls."
   ]
  },
  {
   "cell_type": "code",
   "execution_count": 39,
   "id": "b334b821",
   "metadata": {},
   "outputs": [
    {
     "data": {
      "text/html": [
       "<div>\n",
       "<style scoped>\n",
       "    .dataframe tbody tr th:only-of-type {\n",
       "        vertical-align: middle;\n",
       "    }\n",
       "\n",
       "    .dataframe tbody tr th {\n",
       "        vertical-align: top;\n",
       "    }\n",
       "\n",
       "    .dataframe thead th {\n",
       "        text-align: right;\n",
       "    }\n",
       "</style>\n",
       "<table border=\"1\" class=\"dataframe\">\n",
       "  <thead>\n",
       "    <tr style=\"text-align: right;\">\n",
       "      <th></th>\n",
       "      <th>TransactionID</th>\n",
       "      <th>CustomerID</th>\n",
       "      <th>CustomerDOB</th>\n",
       "      <th>CustGender</th>\n",
       "      <th>CustLocation</th>\n",
       "      <th>CustAccountBalance</th>\n",
       "      <th>TransactionDate</th>\n",
       "      <th>TransactionTime</th>\n",
       "      <th>TransactionAmount (INR)</th>\n",
       "      <th>Customer_YOB</th>\n",
       "      <th>year</th>\n",
       "      <th>Customer_age</th>\n",
       "      <th>Hour</th>\n",
       "    </tr>\n",
       "  </thead>\n",
       "  <tbody>\n",
       "    <tr>\n",
       "      <th>16</th>\n",
       "      <td>T17</td>\n",
       "      <td>C1376215</td>\n",
       "      <td>1/1/1800</td>\n",
       "      <td>M</td>\n",
       "      <td>MUMBAI</td>\n",
       "      <td>77495.15</td>\n",
       "      <td>1/8/16</td>\n",
       "      <td>124727</td>\n",
       "      <td>1423.11</td>\n",
       "      <td>1800.0</td>\n",
       "      <td>2016</td>\n",
       "      <td>29</td>\n",
       "      <td>12</td>\n",
       "    </tr>\n",
       "    <tr>\n",
       "      <th>22</th>\n",
       "      <td>T23</td>\n",
       "      <td>C7018081</td>\n",
       "      <td>1/1/1800</td>\n",
       "      <td>M</td>\n",
       "      <td>WAYS PANCHKUVA AHMEDABAD</td>\n",
       "      <td>143.07</td>\n",
       "      <td>3/8/16</td>\n",
       "      <td>104718</td>\n",
       "      <td>110.00</td>\n",
       "      <td>1800.0</td>\n",
       "      <td>2016</td>\n",
       "      <td>29</td>\n",
       "      <td>10</td>\n",
       "    </tr>\n",
       "  </tbody>\n",
       "</table>\n",
       "</div>"
      ],
      "text/plain": [
       "   TransactionID CustomerID CustomerDOB CustGender              CustLocation  \\\n",
       "16           T17   C1376215    1/1/1800          M                    MUMBAI   \n",
       "22           T23   C7018081    1/1/1800          M  WAYS PANCHKUVA AHMEDABAD   \n",
       "\n",
       "    CustAccountBalance TransactionDate  TransactionTime  \\\n",
       "16            77495.15          1/8/16           124727   \n",
       "22              143.07          3/8/16           104718   \n",
       "\n",
       "    TransactionAmount (INR)  Customer_YOB  year  Customer_age  Hour  \n",
       "16                  1423.11        1800.0  2016            29    12  \n",
       "22                   110.00        1800.0  2016            29    10  "
      ]
     },
     "execution_count": 39,
     "metadata": {},
     "output_type": "execute_result"
    }
   ],
   "source": [
    "transactions_df[transactions_df['Customer_YOB']==1800].head(2)"
   ]
  },
  {
   "cell_type": "markdown",
   "id": "c8f07cd3",
   "metadata": {},
   "source": [
    "Converting any 1800 values to nulls"
   ]
  },
  {
   "cell_type": "code",
   "execution_count": 40,
   "id": "77cc5fc7",
   "metadata": {},
   "outputs": [],
   "source": [
    "transactions_df['Customer_YOB']=transactions_df['Customer_YOB'].replace(1800,np.nan)"
   ]
  },
  {
   "cell_type": "markdown",
   "id": "cba930df",
   "metadata": {},
   "source": [
    "Visualizing the distribution of the years of birth. \n",
    "\n",
    "**Insights:** We see that there are some outliers as the majority of transactions are from people who are born in the '80s to '99. Hence, median imputation will be the most optimal for the year of birth rather than mean."
   ]
  },
  {
   "cell_type": "code",
   "execution_count": 41,
   "id": "102c0593",
   "metadata": {},
   "outputs": [
    {
     "data": {
      "image/png": "[encoded data removed]",
      "text/plain": [
       "<Figure size 432x288 with 1 Axes>"
      ]
     },
     "metadata": {
      "needs_background": "light"
     },
     "output_type": "display_data"
    }
   ],
   "source": [
    "transactions_df.drop_duplicates(subset=['CustomerID'])['Customer_YOB'].plot(kind='hist');\n",
    "plt.title('Year of Birth Distribution');\n",
    "plt.xlabel('Year (Two Digit Format)');"
   ]
  },
  {
   "cell_type": "markdown",
   "id": "a2f42d36",
   "metadata": {},
   "source": [
    "Imputing the average year of birth"
   ]
  },
  {
   "cell_type": "code",
   "execution_count": 42,
   "id": "44bff69a",
   "metadata": {},
   "outputs": [
    {
     "name": "stdout",
     "output_type": "stream",
     "text": [
      "87.0\n"
     ]
    }
   ],
   "source": [
    "avg_year=transactions_df['Customer_YOB'].median()\n",
    "print(avg_year)\n",
    "transactions_df['Customer_YOB']=transactions_df['Customer_YOB'].fillna(avg_year)\n",
    "transactions_df['Customer_YOB']=transactions_df['Customer_YOB'].astype(int)"
   ]
  },
  {
   "cell_type": "markdown",
   "id": "8855eef1",
   "metadata": {},
   "source": [
    "Calculating the calendar year in order to obtain the customer's age"
   ]
  },
  {
   "cell_type": "code",
   "execution_count": 43,
   "id": "4100ffc3",
   "metadata": {},
   "outputs": [],
   "source": [
    "def calendar_yr(x):\n",
    "    if x<=16:\n",
    "        return 2000+x\n",
    "    elif x<=100:\n",
    "        return 1900+x\n",
    "    else:\n",
    "        return x"
   ]
  },
  {
   "cell_type": "code",
   "execution_count": 44,
   "id": "5c91af1d",
   "metadata": {},
   "outputs": [
    {
     "data": {
      "text/plain": [
       "array([1994, 1957, 1996, 1973, 1988, 1972, 1992, 1982, 1984, 1978, 1968,\n",
       "       1987, 1989, 1991, 1985, 1993, 1986, 1967, 1979, 1977, 1997, 1983,\n",
       "       1990, 1980, 1981, 1966, 1975, 1995, 1974, 1971, 1932, 1959, 1999,\n",
       "       1965, 1941, 1954, 1970, 1976, 1921, 1969, 2004, 1943, 1998, 1951,\n",
       "       1960, 1956, 1953, 1947, 2000, 1964, 1948, 1962, 1952, 1955, 1961,\n",
       "       1936, 1963, 1942, 1944, 1938, 2002, 1949, 1958, 1950, 1946, 1945,\n",
       "       1937, 2007, 2001, 1939, 1940, 2013, 2003, 2005, 2010, 2011, 1933,\n",
       "       1934, 1927, 1919, 1928, 1930, 2009, 1931, 1929, 1935, 2015, 2016,\n",
       "       2006, 2008, 2012, 1923, 1926, 1924, 1922, 2014, 1920, 1925, 1918],\n",
       "      dtype=int64)"
      ]
     },
     "execution_count": 44,
     "metadata": {},
     "output_type": "execute_result"
    }
   ],
   "source": [
    "transactions_df['Customer_YOB']=transactions_df['Customer_YOB'].apply(calendar_yr)\n",
    "transactions_df['Customer_YOB'].unique()"
   ]
  },
  {
   "cell_type": "markdown",
   "id": "7c850638",
   "metadata": {},
   "source": [
    "Getting the calendar year of the transaction. Based on analyzing the dates in this dataset, we know that there are only transactions in 2016 in this dataset."
   ]
  },
  {
   "cell_type": "code",
   "execution_count": 45,
   "id": "608ca2f1",
   "metadata": {},
   "outputs": [],
   "source": [
    "transactions_df['year']=transactions_df['TransactionDate'].apply(lambda x: int(str(x).split('/')[-1])+2000)"
   ]
  },
  {
   "cell_type": "markdown",
   "id": "3a4c3c57",
   "metadata": {},
   "source": [
    "Calculating the customer age and sanity checking to ensure it makes sense. The median age of a bank customer being 29 years old makes sense, given that the median age in India is roughly 28.4 years old.\n",
    "\n",
    "Source: https://www.worldometers.info/world-population/india-population/"
   ]
  },
  {
   "cell_type": "code",
   "execution_count": 46,
   "id": "ee68a22b",
   "metadata": {
    "scrolled": true
   },
   "outputs": [
    {
     "data": {
      "text/plain": [
       "29.0"
      ]
     },
     "execution_count": 46,
     "metadata": {},
     "output_type": "execute_result"
    }
   ],
   "source": [
    "transactions_df['Customer_age']=transactions_df['year']-transactions_df['Customer_YOB']\n",
    "transactions_df.drop_duplicates(subset=['CustomerID'])['Customer_age'].median()"
   ]
  },
  {
   "cell_type": "markdown",
   "id": "43261caf",
   "metadata": {},
   "source": [
    "Visualizing the distribution of customer age.\n",
    "\n",
    "**Insights:** The majority of customers are of a relatively young age, being between 20 to 40 years of age."
   ]
  },
  {
   "cell_type": "code",
   "execution_count": 47,
   "id": "0e32bbab",
   "metadata": {},
   "outputs": [
    {
     "data": {
      "image/png": "[encoded data removed]",
      "text/plain": [
       "<Figure size 432x288 with 1 Axes>"
      ]
     },
     "metadata": {
      "needs_background": "light"
     },
     "output_type": "display_data"
    }
   ],
   "source": [
    "transactions_df.drop_duplicates(subset=['CustomerID'])['Customer_age'].plot(kind='hist');\n",
    "plt.title('Customer Age Distribution');\n",
    "plt.xlabel('Age');"
   ]
  },
  {
   "cell_type": "markdown",
   "id": "119b1aa2",
   "metadata": {},
   "source": [
    "### 4.3 City Size\n",
    "\n",
    "Bucketing the customer locations by size (either large or small). The definition of a large city for this analysis will be customer locations with over 1 million people.\n",
    "\n",
    "Source: https://en.wikipedia.org/wiki/List_of_cities_in_India_by_population"
   ]
  },
  {
   "cell_type": "markdown",
   "id": "908fa497",
   "metadata": {},
   "source": [
    "Loading the cities that have populations of over 1 million people."
   ]
  },
  {
   "cell_type": "code",
   "execution_count": 48,
   "id": "0702a2ab",
   "metadata": {},
   "outputs": [
    {
     "data": {
      "text/html": [
       "<div>\n",
       "<style scoped>\n",
       "    .dataframe tbody tr th:only-of-type {\n",
       "        vertical-align: middle;\n",
       "    }\n",
       "\n",
       "    .dataframe tbody tr th {\n",
       "        vertical-align: top;\n",
       "    }\n",
       "\n",
       "    .dataframe thead th {\n",
       "        text-align: right;\n",
       "    }\n",
       "</style>\n",
       "<table border=\"1\" class=\"dataframe\">\n",
       "  <thead>\n",
       "    <tr style=\"text-align: right;\">\n",
       "      <th></th>\n",
       "      <th>City</th>\n",
       "      <th>Population</th>\n",
       "    </tr>\n",
       "  </thead>\n",
       "  <tbody>\n",
       "    <tr>\n",
       "      <th>0</th>\n",
       "      <td>Mumbai</td>\n",
       "      <td>12,442,373</td>\n",
       "    </tr>\n",
       "    <tr>\n",
       "      <th>1</th>\n",
       "      <td>Delhi</td>\n",
       "      <td>11,007,835</td>\n",
       "    </tr>\n",
       "    <tr>\n",
       "      <th>2</th>\n",
       "      <td>Bangalore</td>\n",
       "      <td>8,425,970</td>\n",
       "    </tr>\n",
       "    <tr>\n",
       "      <th>3</th>\n",
       "      <td>Hyderabad</td>\n",
       "      <td>6,809,970</td>\n",
       "    </tr>\n",
       "    <tr>\n",
       "      <th>4</th>\n",
       "      <td>Ahmedabad</td>\n",
       "      <td>5,570,585</td>\n",
       "    </tr>\n",
       "  </tbody>\n",
       "</table>\n",
       "</div>"
      ],
      "text/plain": [
       "        City  Population\n",
       "0     Mumbai  12,442,373\n",
       "1      Delhi  11,007,835\n",
       "2  Bangalore   8,425,970\n",
       "3  Hyderabad   6,809,970\n",
       "4  Ahmedabad   5,570,585"
      ]
     },
     "execution_count": 48,
     "metadata": {},
     "output_type": "execute_result"
    }
   ],
   "source": [
    "city_population_df=pd.read_csv('Indian Cities by Population.csv', header=None).rename(columns={0:'City', 1:'Population'})\n",
    "city_population_df.head()"
   ]
  },
  {
   "cell_type": "code",
   "execution_count": 49,
   "id": "b2b0b74c",
   "metadata": {},
   "outputs": [],
   "source": [
    "city_population_df['City']=city_population_df['City'].apply(lambda x: x.lower())"
   ]
  },
  {
   "cell_type": "code",
   "execution_count": 50,
   "id": "69056952",
   "metadata": {},
   "outputs": [],
   "source": [
    "transactions_df['CustLocation']=transactions_df['CustLocation'].apply(lambda x: x.lower())"
   ]
  },
  {
   "cell_type": "markdown",
   "id": "62c4f947",
   "metadata": {},
   "source": [
    "Joining the population data with the transactions table"
   ]
  },
  {
   "cell_type": "code",
   "execution_count": 51,
   "id": "6c978e6b",
   "metadata": {},
   "outputs": [],
   "source": [
    "transactions_df=\\\n",
    "transactions_df.merge(city_population_df, left_on='CustLocation', right_on='City', how='left')\\\n",
    ".drop(columns=['City'])"
   ]
  },
  {
   "cell_type": "code",
   "execution_count": 52,
   "id": "43efd1f6",
   "metadata": {},
   "outputs": [],
   "source": [
    "transactions_df['Population']=transactions_df['Population'].str.replace(',','')\n",
    "transactions_df['Population'].fillna(0, inplace=True)\n",
    "transactions_df['Population']=transactions_df['Population'].astype(int)"
   ]
  },
  {
   "cell_type": "markdown",
   "id": "fb1177f6",
   "metadata": {},
   "source": [
    "Bucketing the customer locations into large or small cities"
   ]
  },
  {
   "cell_type": "code",
   "execution_count": 53,
   "id": "43286a10",
   "metadata": {},
   "outputs": [],
   "source": [
    "transactions_df['Population']=transactions_df['Population'].apply(lambda x: 'Large City' if x>=1000000 else 'Small City')"
   ]
  },
  {
   "cell_type": "code",
   "execution_count": 54,
   "id": "698c50da",
   "metadata": {},
   "outputs": [],
   "source": [
    "transactions_df=transactions_df.rename(columns={'Population':'City Size'})"
   ]
  },
  {
   "cell_type": "markdown",
   "id": "4fe429ad",
   "metadata": {},
   "source": [
    "Visualizing the distribution of customers from large vs small cities"
   ]
  },
  {
   "cell_type": "code",
   "execution_count": 56,
   "id": "d623b8c5",
   "metadata": {},
   "outputs": [
    {
     "data": {
      "image/png": "[encoded data removed]",
      "text/plain": [
       "<Figure size 432x288 with 1 Axes>"
      ]
     },
     "metadata": {
      "needs_background": "light"
     },
     "output_type": "display_data"
    }
   ],
   "source": [
    "transactions_df.drop_duplicates(subset=['CustomerID'])['City Size'].value_counts(normalize=True).plot(kind='bar');\n",
    "plt.title('Large City vs Small City Distribution');\n",
    "plt.xlabel('City Size');\n",
    "plt.ylabel('Percentage');"
   ]
  },
  {
   "cell_type": "markdown",
   "id": "0f5dd9d6",
   "metadata": {},
   "source": [
    "### 4.4 Regions of India\n",
    "\n",
    "Creating a new feature that buckets the cities into the different regions in India.\n",
    "\n",
    "Source: https://www.krisia.com/city_list.htm"
   ]
  },
  {
   "cell_type": "code",
   "execution_count": 43,
   "id": "e93def61",
   "metadata": {},
   "outputs": [],
   "source": [
    "regions_df=pd.read_csv('Indian Cities and Regions.csv')"
   ]
  },
  {
   "cell_type": "code",
   "execution_count": 44,
   "id": "5eff093f",
   "metadata": {},
   "outputs": [],
   "source": [
    "regions_df['City']=regions_df['City'].apply(lambda x: x.lower())"
   ]
  },
  {
   "cell_type": "code",
   "execution_count": 45,
   "id": "72c5ee21",
   "metadata": {},
   "outputs": [],
   "source": [
    "transactions_df=transactions_df.merge(regions_df, left_on='CustLocation', right_on='City', how='left')"
   ]
  },
  {
   "cell_type": "code",
   "execution_count": 46,
   "id": "2e97fd27",
   "metadata": {},
   "outputs": [],
   "source": [
    "transactions_df.drop(columns=['City', 'State'], inplace=True)"
   ]
  },
  {
   "cell_type": "markdown",
   "id": "c67321f0",
   "metadata": {},
   "source": [
    "Analyzing the distribution of transactions from each region.\n",
    "\n",
    "**Insights:** The majority of transactions are from North India."
   ]
  },
  {
   "cell_type": "code",
   "execution_count": 47,
   "id": "3bfdddf4",
   "metadata": {},
   "outputs": [
    {
     "data": {
      "image/png": "[encoded data removed]",
      "text/plain": [
       "<Figure size 432x288 with 1 Axes>"
      ]
     },
     "metadata": {
      "needs_background": "light"
     },
     "output_type": "display_data"
    }
   ],
   "source": [
    "transactions_df.drop_duplicates(subset=['CustomerID'])['Region'].value_counts().plot(kind='bar');\n",
    "plt.title('Number of Customers per Region');\n",
    "plt.ylabel('Number of Customers');\n",
    "plt.xlabel('Region');"
   ]
  },
  {
   "cell_type": "markdown",
   "id": "3b28a275",
   "metadata": {},
   "source": [
    "### 4.5 Number of Transactions"
   ]
  },
  {
   "cell_type": "markdown",
   "id": "128d176c",
   "metadata": {},
   "source": [
    "Displaying the frequency count for different number of transactions made by customers within the 2.5 month period. The majority of customers have only made 1 transaction within the 2.5 month window. This can be a new feature to be created once we bucket the data into the customer level. "
   ]
  },
  {
   "cell_type": "code",
   "execution_count": 48,
   "id": "0061a09a",
   "metadata": {},
   "outputs": [
    {
     "data": {
      "image/png": "[encoded data removed]",
      "text/plain": [
       "<Figure size 432x288 with 1 Axes>"
      ]
     },
     "metadata": {
      "needs_background": "light"
     },
     "output_type": "display_data"
    }
   ],
   "source": [
    "transactions_df.groupby('CustomerID')['TransactionID'].count().value_counts().plot(kind='bar');\n",
    "plt.title('Distribution of Total Number of Customers Who Have Made a Certain Number of Transactions');\n",
    "plt.ylabel('Number of Customers');\n",
    "plt.xlabel('Number of Transactions per Customer');"
   ]
  },
  {
   "cell_type": "markdown",
   "id": "dcb81e70",
   "metadata": {},
   "source": [
    "<a id='5.0'></a>\n",
    "## 5.0 Data Consolidation"
   ]
  },
  {
   "cell_type": "markdown",
   "id": "6b6a1fe4",
   "metadata": {},
   "source": [
    "Consolidating the data set from transaction level to customer level. Because the goal is to segment customers, we want to analyze the data for each individual customer as the event, rather than the transaction."
   ]
  },
  {
   "cell_type": "code",
   "execution_count": 49,
   "id": "ee8c4c93",
   "metadata": {},
   "outputs": [],
   "source": [
    "numeric_customers_df=transactions_df.groupby('CustomerID', as_index=False).agg({'TransactionID':'count',\n",
    "                                           'CustAccountBalance':'mean',\n",
    "                                           'TransactionAmount (INR)':'mean',\n",
    "                                           'Customer_age':'mean',\n",
    "                                           'Hour':'mean'})\\\n",
    ".rename(columns={'TransactionID':'Number of Transactions',\n",
    "                'TransactionAmount (INR)':'Average Transacted (INR)'})"
   ]
  },
  {
   "cell_type": "code",
   "execution_count": 50,
   "id": "b9b83708",
   "metadata": {},
   "outputs": [
    {
     "data": {
      "text/html": [
       "<div>\n",
       "<style scoped>\n",
       "    .dataframe tbody tr th:only-of-type {\n",
       "        vertical-align: middle;\n",
       "    }\n",
       "\n",
       "    .dataframe tbody tr th {\n",
       "        vertical-align: top;\n",
       "    }\n",
       "\n",
       "    .dataframe thead th {\n",
       "        text-align: right;\n",
       "    }\n",
       "</style>\n",
       "<table border=\"1\" class=\"dataframe\">\n",
       "  <thead>\n",
       "    <tr style=\"text-align: right;\">\n",
       "      <th></th>\n",
       "      <th>CustomerID</th>\n",
       "      <th>Number of Transactions</th>\n",
       "      <th>CustAccountBalance</th>\n",
       "      <th>Average Transacted (INR)</th>\n",
       "      <th>Customer_age</th>\n",
       "      <th>Hour</th>\n",
       "    </tr>\n",
       "  </thead>\n",
       "  <tbody>\n",
       "    <tr>\n",
       "      <th>0</th>\n",
       "      <td>C1010011</td>\n",
       "      <td>2</td>\n",
       "      <td>76340.635</td>\n",
       "      <td>2553.0</td>\n",
       "      <td>28.5</td>\n",
       "      <td>6.5</td>\n",
       "    </tr>\n",
       "    <tr>\n",
       "      <th>1</th>\n",
       "      <td>C1010012</td>\n",
       "      <td>1</td>\n",
       "      <td>24204.490</td>\n",
       "      <td>1499.0</td>\n",
       "      <td>22.0</td>\n",
       "      <td>20.0</td>\n",
       "    </tr>\n",
       "  </tbody>\n",
       "</table>\n",
       "</div>"
      ],
      "text/plain": [
       "  CustomerID  Number of Transactions  CustAccountBalance  \\\n",
       "0   C1010011                       2           76340.635   \n",
       "1   C1010012                       1           24204.490   \n",
       "\n",
       "   Average Transacted (INR)  Customer_age  Hour  \n",
       "0                    2553.0          28.5   6.5  \n",
       "1                    1499.0          22.0  20.0  "
      ]
     },
     "execution_count": 50,
     "metadata": {},
     "output_type": "execute_result"
    }
   ],
   "source": [
    "numeric_customers_df.head(2)"
   ]
  },
  {
   "cell_type": "code",
   "execution_count": 51,
   "id": "262f0370",
   "metadata": {},
   "outputs": [
    {
     "data": {
      "text/plain": [
       "(884265, 6)"
      ]
     },
     "execution_count": 51,
     "metadata": {},
     "output_type": "execute_result"
    }
   ],
   "source": [
    "numeric_customers_df.shape"
   ]
  },
  {
   "cell_type": "markdown",
   "id": "0104e96c",
   "metadata": {},
   "source": [
    "Getting the non-numerical data. Given that the number of rows is the same as the aggregated numerical data, we can join the two tables together"
   ]
  },
  {
   "cell_type": "code",
   "execution_count": 52,
   "id": "df583a23",
   "metadata": {},
   "outputs": [
    {
     "data": {
      "text/html": [
       "<div>\n",
       "<style scoped>\n",
       "    .dataframe tbody tr th:only-of-type {\n",
       "        vertical-align: middle;\n",
       "    }\n",
       "\n",
       "    .dataframe tbody tr th {\n",
       "        vertical-align: top;\n",
       "    }\n",
       "\n",
       "    .dataframe thead th {\n",
       "        text-align: right;\n",
       "    }\n",
       "</style>\n",
       "<table border=\"1\" class=\"dataframe\">\n",
       "  <thead>\n",
       "    <tr style=\"text-align: right;\">\n",
       "      <th></th>\n",
       "      <th>CustomerID</th>\n",
       "      <th>CustGender</th>\n",
       "      <th>CustLocation</th>\n",
       "      <th>City Size</th>\n",
       "      <th>Region</th>\n",
       "    </tr>\n",
       "  </thead>\n",
       "  <tbody>\n",
       "    <tr>\n",
       "      <th>0</th>\n",
       "      <td>C5841053</td>\n",
       "      <td>F</td>\n",
       "      <td>jamshedpur</td>\n",
       "      <td>Small City</td>\n",
       "      <td>EAST INDIA</td>\n",
       "    </tr>\n",
       "    <tr>\n",
       "      <th>1</th>\n",
       "      <td>C2142763</td>\n",
       "      <td>M</td>\n",
       "      <td>jhajjar</td>\n",
       "      <td>Small City</td>\n",
       "      <td>NORTH INDIA</td>\n",
       "    </tr>\n",
       "  </tbody>\n",
       "</table>\n",
       "</div>"
      ],
      "text/plain": [
       "  CustomerID CustGender CustLocation   City Size       Region\n",
       "0   C5841053          F   jamshedpur  Small City   EAST INDIA\n",
       "1   C2142763          M      jhajjar  Small City  NORTH INDIA"
      ]
     },
     "execution_count": 52,
     "metadata": {},
     "output_type": "execute_result"
    }
   ],
   "source": [
    "non_numeric_customers_df=transactions_df.drop_duplicates(subset=['CustomerID'], keep='first')[['CustomerID','CustGender', 'CustLocation', 'City Size', 'Region']]\n",
    "non_numeric_customers_df.head(2)"
   ]
  },
  {
   "cell_type": "code",
   "execution_count": 53,
   "id": "7c85a278",
   "metadata": {},
   "outputs": [
    {
     "data": {
      "text/plain": [
       "(884265, 5)"
      ]
     },
     "execution_count": 53,
     "metadata": {},
     "output_type": "execute_result"
    }
   ],
   "source": [
    "non_numeric_customers_df.shape"
   ]
  },
  {
   "cell_type": "markdown",
   "id": "b12f06f7",
   "metadata": {},
   "source": [
    "Joining the two tables together to get a mix of numerical and categorical data for the customer segmentation model and analysis."
   ]
  },
  {
   "cell_type": "code",
   "execution_count": 54,
   "id": "00f71509",
   "metadata": {},
   "outputs": [
    {
     "data": {
      "text/html": [
       "<div>\n",
       "<style scoped>\n",
       "    .dataframe tbody tr th:only-of-type {\n",
       "        vertical-align: middle;\n",
       "    }\n",
       "\n",
       "    .dataframe tbody tr th {\n",
       "        vertical-align: top;\n",
       "    }\n",
       "\n",
       "    .dataframe thead th {\n",
       "        text-align: right;\n",
       "    }\n",
       "</style>\n",
       "<table border=\"1\" class=\"dataframe\">\n",
       "  <thead>\n",
       "    <tr style=\"text-align: right;\">\n",
       "      <th></th>\n",
       "      <th>CustomerID</th>\n",
       "      <th>Number of Transactions</th>\n",
       "      <th>CustAccountBalance</th>\n",
       "      <th>Average Transacted (INR)</th>\n",
       "      <th>Customer_age</th>\n",
       "      <th>Hour</th>\n",
       "      <th>CustGender</th>\n",
       "      <th>CustLocation</th>\n",
       "      <th>City Size</th>\n",
       "      <th>Region</th>\n",
       "    </tr>\n",
       "  </thead>\n",
       "  <tbody>\n",
       "    <tr>\n",
       "      <th>0</th>\n",
       "      <td>C1010011</td>\n",
       "      <td>2</td>\n",
       "      <td>76340.635</td>\n",
       "      <td>2553.0</td>\n",
       "      <td>28.5</td>\n",
       "      <td>6.5</td>\n",
       "      <td>F</td>\n",
       "      <td>noida</td>\n",
       "      <td>Small City</td>\n",
       "      <td>NORTH INDIA</td>\n",
       "    </tr>\n",
       "    <tr>\n",
       "      <th>1</th>\n",
       "      <td>C1010012</td>\n",
       "      <td>1</td>\n",
       "      <td>24204.490</td>\n",
       "      <td>1499.0</td>\n",
       "      <td>22.0</td>\n",
       "      <td>20.0</td>\n",
       "      <td>M</td>\n",
       "      <td>mumbai</td>\n",
       "      <td>Large City</td>\n",
       "      <td>WEST INDIA</td>\n",
       "    </tr>\n",
       "  </tbody>\n",
       "</table>\n",
       "</div>"
      ],
      "text/plain": [
       "  CustomerID  Number of Transactions  CustAccountBalance  \\\n",
       "0   C1010011                       2           76340.635   \n",
       "1   C1010012                       1           24204.490   \n",
       "\n",
       "   Average Transacted (INR)  Customer_age  Hour CustGender CustLocation  \\\n",
       "0                    2553.0          28.5   6.5          F        noida   \n",
       "1                    1499.0          22.0  20.0          M       mumbai   \n",
       "\n",
       "    City Size       Region  \n",
       "0  Small City  NORTH INDIA  \n",
       "1  Large City   WEST INDIA  "
      ]
     },
     "execution_count": 54,
     "metadata": {},
     "output_type": "execute_result"
    }
   ],
   "source": [
    "customers_df=numeric_customers_df.merge(non_numeric_customers_df, on='CustomerID')\n",
    "customers_df.head(2)"
   ]
  },
  {
   "cell_type": "markdown",
   "id": "7c30fa94",
   "metadata": {},
   "source": [
    "<a id='6.0'></a>\n",
    "## 6.0 Data Sampling\n",
    "\n",
    "As silhouette analysis takes a very long time to run for large datasets, we are generating samples of the data to speed up the analysis. 100000 samples were chosen specifically as this number is large enough to be representative of the general customer population but small enough that the silhouette analysis will not take ages to run."
   ]
  },
  {
   "cell_type": "code",
   "execution_count": 55,
   "id": "b5f8286f",
   "metadata": {},
   "outputs": [],
   "source": [
    "customers_df_sample=customers_df.sample(n=100000, random_state=37)"
   ]
  },
  {
   "cell_type": "markdown",
   "id": "da1be801",
   "metadata": {},
   "source": [
    "<a id='7.0'></a>\n",
    "## 7.0 Outlier Removal and Feature Scaling"
   ]
  },
  {
   "cell_type": "markdown",
   "id": "0798f08e",
   "metadata": {},
   "source": [
    "Given the abundance of outliers in the dataset, it is important to remove outliers so that we don't end up with small clusters that exist only containing the outlier values."
   ]
  },
  {
   "cell_type": "code",
   "execution_count": 56,
   "id": "73328c03",
   "metadata": {},
   "outputs": [],
   "source": [
    "# Setting up the parameters\n",
    "numeric_columns = ['Number of Transactions', 'CustAccountBalance', 'Average Transacted (INR)', 'Customer_age', 'Hour']\n",
    "capped_col_name = [col + ' Capped' for col in numeric_columns]\n",
    "lower_quantile = [0.25] * len(numeric_columns)\n",
    "upper_quantile = [0.85] + [0.75] * 4 # 0.85 is used for Number of Transactions column because the 0.75 quantile was found to return 1, \n",
    "# the exact same as 0.25, which would mean that a static number of 1 will be returned for this feature after capping, which\n",
    "# provides no meaningful analysis\n",
    "\n",
    "for i in range(len(numeric_columns)):\n",
    "    lower, upper = customers_df_sample[numeric_columns[i]].quantile([lower_quantile[i], upper_quantile[i]])\n",
    "    iqr = upper - lower\n",
    "    top_boundary = upper + (iqr * 1.5)\n",
    "    bottom_boundary = lower - (iqr * 1.5)\n",
    "    customers_df_sample[capped_col_name[i]] = customers_df_sample[numeric_columns[i]]\n",
    "    customers_df_sample.loc[customers_df_sample[capped_col_name[i]] >= top_boundary, capped_col_name[i]] = top_boundary\n",
    "    customers_df_sample.loc[customers_df_sample[capped_col_name[i]] <= bottom_boundary, capped_col_name[i]] = bottom_boundary"
   ]
  },
  {
   "cell_type": "code",
   "execution_count": 57,
   "id": "ad604029",
   "metadata": {},
   "outputs": [],
   "source": [
    "from sklearn.preprocessing import RobustScaler\n",
    "from sklearn.preprocessing import StandardScaler"
   ]
  },
  {
   "cell_type": "code",
   "execution_count": 58,
   "id": "4bd72fe0",
   "metadata": {},
   "outputs": [],
   "source": [
    "scaler=RobustScaler() # It was found that robust scaler produces better silhouette scores than standard scaler\n",
    "# scaler=StandardScaler()"
   ]
  },
  {
   "cell_type": "markdown",
   "id": "835eb975",
   "metadata": {},
   "source": [
    "Scaling the data so that the euclidean distance calculating in the K-means algorithm is magnitude neutral."
   ]
  },
  {
   "cell_type": "code",
   "execution_count": 59,
   "id": "a2fcf322",
   "metadata": {},
   "outputs": [],
   "source": [
    "scaled_col_name = [col + ' Scaled' for col in numeric_columns]\n",
    "for i in range(len(numeric_columns)):\n",
    "    customers_df_sample[scaled_col_name[i]] = scaler.fit_transform(customers_df_sample[[capped_col_name[i]]])"
   ]
  },
  {
   "cell_type": "markdown",
   "id": "7b0364ea",
   "metadata": {},
   "source": [
    "<a id='8.0'></a>\n",
    "## 8.0 Algorithm Hyperparameter Tuning"
   ]
  },
  {
   "cell_type": "code",
   "execution_count": 60,
   "id": "ee8516ce",
   "metadata": {},
   "outputs": [],
   "source": [
    "customer_data_kmeans=customers_df_sample[scaled_col_name]"
   ]
  },
  {
   "cell_type": "code",
   "execution_count": 61,
   "id": "b232a306",
   "metadata": {},
   "outputs": [],
   "source": [
    "from sklearn.cluster import KMeans\n",
    "from scikitplot.cluster import plot_elbow_curve\n",
    "from scikitplot.metrics import plot_silhouette"
   ]
  },
  {
   "cell_type": "markdown",
   "id": "e400f9a1",
   "metadata": {},
   "source": [
    "Plotting the elbow curve. \n",
    "\n",
    "**Insights:** Appears that 3-4 clusters is the inflection point. However, the elbow plot only analyzes the entire dataset as a whole and does not provide insights on the quality of the clusters themselves. Thus, more analysis is required to determine the optimal number of clusters."
   ]
  },
  {
   "cell_type": "code",
   "execution_count": 58,
   "id": "8f34d955",
   "metadata": {
    "scrolled": true
   },
   "outputs": [
    {
     "data": {
      "image/png": "[encoded data removed]",
      "text/plain": [
       "<Figure size 720x504 with 2 Axes>"
      ]
     },
     "metadata": {
      "needs_background": "light"
     },
     "output_type": "display_data"
    }
   ],
   "source": [
    "plot_elbow_curve(KMeans(), customer_data_kmeans, cluster_ranges=range(1, 7), figsize=(10, 7));"
   ]
  },
  {
   "cell_type": "markdown",
   "id": "8fcdeec3",
   "metadata": {},
   "source": [
    "Analyzing cluster performance for different cluster sizes using a silhouette plot\n",
    "\n",
    "**Important Note:** Silhouette analysis takes a long time to calculate. This could take between 20-30 minutes to run.\n",
    "\n",
    "**Insights:** Based on both the elbow plot and silhouette scores, 3 clusters would be the optimal number. The reason is because the silhouette score starts to decrease rapidly after 3 clusters. Furthermore, having more clusters may result in information overload for the marketing team with regards to understanding the patterns and characteristics of each cluster. Although 2 clusters has the highest overall silhouette score, it is not much higher than 3. Furthermore, segmenting customers into only 2 clusters would be too general and is not enough to properly capture the different demographic and behavioral patterns of the bank's customers. This argument is supported by the relatively high sum of squared errors for 2 clusters. Finally, for the 2 clusters, although the silhouette score is the best, only the majority class (labelled as 1) is clustered properly as nearly the entire segment for the minority class (labelled as 0) has a silhouette score below the mean. For these reasons, 3 clusters would be the most optimal."
   ]
  },
  {
   "cell_type": "code",
   "execution_count": 59,
   "id": "1c977376",
   "metadata": {},
   "outputs": [
    {
     "name": "stdout",
     "output_type": "stream",
     "text": [
      "Distribution of clusters for 2 clusters are\n",
      "1    66932\n",
      "0    33068\n",
      "dtype: int64\n",
      "Distribution of clusters for 3 clusters are\n",
      "0    62765\n",
      "2    20080\n",
      "1    17155\n",
      "dtype: int64\n",
      "Distribution of clusters for 4 clusters are\n",
      "1    50806\n",
      "3    18742\n",
      "0    16125\n",
      "2    14327\n",
      "dtype: int64\n",
      "Distribution of clusters for 5 clusters are\n",
      "2    32598\n",
      "0    21941\n",
      "3    18337\n",
      "4    13577\n",
      "1    13547\n",
      "dtype: int64\n"
     ]
    },
    {
     "data": {
      "image/png": "[encoded data removed]",
      "text/plain": [
       "<Figure size 432x288 with 1 Axes>"
      ]
     },
     "metadata": {
      "needs_background": "light"
     },
     "output_type": "display_data"
    },
    {
     "data": {
      "image/png": "[encoded data removed]",
      "text/plain": [
       "<Figure size 432x288 with 1 Axes>"
      ]
     },
     "metadata": {
      "needs_background": "light"
     },
     "output_type": "display_data"
    },
    {
     "data": {
      "image/png": "[encoded data removed]",
      "text/plain": [
       "<Figure size 432x288 with 1 Axes>"
      ]
     },
     "metadata": {
      "needs_background": "light"
     },
     "output_type": "display_data"
    },
    {
     "data": {
      "image/png": "[encoded data removed]",
      "text/plain": [
       "<Figure size 432x288 with 1 Axes>"
      ]
     },
     "metadata": {
      "needs_background": "light"
     },
     "output_type": "display_data"
    }
   ],
   "source": [
    "for i in range(2,6):\n",
    "    model=KMeans(i, n_init=20, random_state=31)\n",
    "    model_labels=model.fit_predict(customer_data_kmeans)\n",
    "    # Analyzing the cluster labels to see if the clusters are heavily imbalanced. \n",
    "    # If the clusters are imbalanced, this is not good from a customer segmentation perspective.\n",
    "    print(f'Distribution of clusters for {i} clusters are')\n",
    "    print(pd.Series(model_labels).value_counts())\n",
    "    plot_silhouette(customer_data_kmeans, model.labels_);"
   ]
  },
  {
   "cell_type": "markdown",
   "id": "c246d654",
   "metadata": {},
   "source": [
    "<a id='9.0'></a>\n",
    "## 9.0 Final Model"
   ]
  },
  {
   "cell_type": "markdown",
   "id": "108de27b",
   "metadata": {},
   "source": [
    "From above analysis, it is determined 3 clusters is optimal. Thus, we will generate labels for 3 clusters."
   ]
  },
  {
   "cell_type": "code",
   "execution_count": 62,
   "id": "de8d6156",
   "metadata": {},
   "outputs": [],
   "source": [
    "model=KMeans(3, n_init=20, random_state=31)"
   ]
  },
  {
   "cell_type": "code",
   "execution_count": 63,
   "id": "ee24969b",
   "metadata": {},
   "outputs": [],
   "source": [
    "model_labels=model.fit_predict(customer_data_kmeans)"
   ]
  },
  {
   "cell_type": "code",
   "execution_count": 64,
   "id": "4844693e",
   "metadata": {},
   "outputs": [],
   "source": [
    "customers_df_sample['cluster']=model_labels"
   ]
  },
  {
   "cell_type": "markdown",
   "id": "bf054aa3",
   "metadata": {},
   "source": [
    "**Insights** The majority of customers belong to cluster 0"
   ]
  },
  {
   "cell_type": "code",
   "execution_count": 65,
   "id": "f5367321",
   "metadata": {},
   "outputs": [
    {
     "data": {
      "image/png": "[encoded data removed]",
      "text/plain": [
       "<Figure size 432x288 with 1 Axes>"
      ]
     },
     "metadata": {
      "needs_background": "light"
     },
     "output_type": "display_data"
    }
   ],
   "source": [
    "(customers_df_sample['cluster'].value_counts(normalize=True).reindex([0,1,2])*100).plot(kind='bar');\n",
    "plt.title('Distribution of Customers per Cluster');\n",
    "plt.xlabel('Cluster');\n",
    "plt.ylabel('Percentage');"
   ]
  },
  {
   "cell_type": "markdown",
   "id": "1435fd51",
   "metadata": {},
   "source": [
    "<a id='10.0'></a>\n",
    "## 10.0 Post Hoc Analyses"
   ]
  },
  {
   "cell_type": "markdown",
   "id": "4c7f80ac",
   "metadata": {},
   "source": [
    "Calculating summary statistics for each numerical feature for each cluster"
   ]
  },
  {
   "cell_type": "code",
   "execution_count": 66,
   "id": "6e7fd9ba",
   "metadata": {},
   "outputs": [
    {
     "data": {
      "text/html": [
       "<div>\n",
       "<style scoped>\n",
       "    .dataframe tbody tr th:only-of-type {\n",
       "        vertical-align: middle;\n",
       "    }\n",
       "\n",
       "    .dataframe tbody tr th {\n",
       "        vertical-align: top;\n",
       "    }\n",
       "\n",
       "    .dataframe thead th {\n",
       "        text-align: right;\n",
       "    }\n",
       "</style>\n",
       "<table border=\"1\" class=\"dataframe\">\n",
       "  <thead>\n",
       "    <tr style=\"text-align: right;\">\n",
       "      <th></th>\n",
       "      <th>Average Customer Account Balance</th>\n",
       "      <th>Average Transacted (INR)</th>\n",
       "      <th>Average Customer Age</th>\n",
       "      <th>Average Number of Transactions</th>\n",
       "      <th>Average Transaction Time of Day (Hour)</th>\n",
       "    </tr>\n",
       "    <tr>\n",
       "      <th>cluster</th>\n",
       "      <th></th>\n",
       "      <th></th>\n",
       "      <th></th>\n",
       "      <th></th>\n",
       "      <th></th>\n",
       "    </tr>\n",
       "  </thead>\n",
       "  <tbody>\n",
       "    <tr>\n",
       "      <th>0</th>\n",
       "      <td>17743.10</td>\n",
       "      <td>385.65</td>\n",
       "      <td>28.86</td>\n",
       "      <td>1.16</td>\n",
       "      <td>15.28</td>\n",
       "    </tr>\n",
       "    <tr>\n",
       "      <th>1</th>\n",
       "      <td>28479.62</td>\n",
       "      <td>4715.23</td>\n",
       "      <td>33.73</td>\n",
       "      <td>1.20</td>\n",
       "      <td>15.85</td>\n",
       "    </tr>\n",
       "    <tr>\n",
       "      <th>2</th>\n",
       "      <td>513056.03</td>\n",
       "      <td>2677.01</td>\n",
       "      <td>34.99</td>\n",
       "      <td>1.24</td>\n",
       "      <td>15.41</td>\n",
       "    </tr>\n",
       "  </tbody>\n",
       "</table>\n",
       "</div>"
      ],
      "text/plain": [
       "         Average Customer Account Balance  Average Transacted (INR)  \\\n",
       "cluster                                                               \n",
       "0                                17743.10                    385.65   \n",
       "1                                28479.62                   4715.23   \n",
       "2                               513056.03                   2677.01   \n",
       "\n",
       "         Average Customer Age  Average Number of Transactions  \\\n",
       "cluster                                                         \n",
       "0                       28.86                            1.16   \n",
       "1                       33.73                            1.20   \n",
       "2                       34.99                            1.24   \n",
       "\n",
       "         Average Transaction Time of Day (Hour)  \n",
       "cluster                                          \n",
       "0                                         15.28  \n",
       "1                                         15.85  \n",
       "2                                         15.41  "
      ]
     },
     "execution_count": 66,
     "metadata": {},
     "output_type": "execute_result"
    }
   ],
   "source": [
    "customers_df_continuous_stats=customers_df_sample.groupby('cluster').agg({'CustAccountBalance':'mean',\n",
    "                                            'Average Transacted (INR)':'mean',\n",
    "                                           'Customer_age':'mean',\n",
    "                                           'Number of Transactions':'mean',\n",
    "                                           'Hour':'mean'})\\\n",
    ".rename(columns={'CustAccountBalance':'Average Customer Account Balance',\n",
    "                'Customer_age':'Average Customer Age',\n",
    "                'Number of Transactions':'Average Number of Transactions',\n",
    "                'Hour':'Average Transaction Time of Day (Hour)'})\\\n",
    ".apply(lambda x: round(x,2), axis=1)\n",
    "customers_df_continuous_stats"
   ]
  },
  {
   "cell_type": "markdown",
   "id": "1763f792",
   "metadata": {},
   "source": [
    "Visualizing the summary statistics for each cluster"
   ]
  },
  {
   "cell_type": "code",
   "execution_count": 67,
   "id": "711a2dfa",
   "metadata": {},
   "outputs": [
    {
     "data": {
      "image/png": "[encoded data removed]",
      "text/plain": [
       "<Figure size 1080x1440 with 6 Axes>"
      ]
     },
     "metadata": {
      "needs_background": "light"
     },
     "output_type": "display_data"
    }
   ],
   "source": [
    "fig, axes = plt.subplots(3, 2, figsize = (15, 20))\n",
    "plt.rc('font', size=15)          # controls default text sizes\n",
    "plt.rc('axes', titlesize=15)     # fontsize of the axes title\n",
    "plt.rc('axes', labelsize=15)    # fontsize of the x and y labels\n",
    "plt.rc('xtick', labelsize=15)    # fontsize of the tick labels\n",
    "plt.rc('ytick', labelsize=15)    # fontsize of the tick labels\n",
    "plt.rc('legend', fontsize=15)    # legend fontsize\n",
    "plt.rc('figure', titlesize=30)  # fontsize of the figure title\n",
    "x=[0,1,2] # Cluster labels\n",
    "colors=['blue','green','orange','yellow','red'] # Setting different colours for each graph\n",
    "for index, column in enumerate(customers_df_continuous_stats.columns):\n",
    "    row=index//2\n",
    "    col=index%2\n",
    "    customers_df_continuous_stats[column].plot(kind='bar', ax=axes[row,col], color=colors[index])\n",
    "    axes[row,col].set_title(column)\n",
    "    y=customers_df_continuous_stats[column].values\n",
    "    for a,b in zip(x,y):\n",
    "        axes[row,col].annotate(str(b),xy=(a,b))"
   ]
  },
  {
   "cell_type": "markdown",
   "id": "5c8befb3",
   "metadata": {},
   "source": [
    "Calculating the proportions of each cluster for each category"
   ]
  },
  {
   "cell_type": "code",
   "execution_count": 68,
   "id": "f4ed130c",
   "metadata": {},
   "outputs": [
    {
     "name": "stdout",
     "output_type": "stream",
     "text": [
      "cluster            0         1         2\n",
      "CustGender                              \n",
      "F           0.590685  0.193994  0.215321\n",
      "M           0.641166  0.163344  0.195491\n",
      "\n",
      "cluster            0         1         2\n",
      "City Size                               \n",
      "Large City  0.611351  0.175927  0.212722\n",
      "Small City  0.649272  0.165744  0.184984\n",
      "\n",
      "cluster                  0         1         2\n",
      "Region                                        \n",
      "CENTRAL INDIA     0.624167  0.200833  0.175000\n",
      "EAST INDIA        0.622177  0.189098  0.188725\n",
      "NORTH EAST INDIA  0.491525  0.338983  0.169492\n",
      "NORTH INDIA       0.605553  0.166583  0.227865\n",
      "SOUTH INDIA       0.660061  0.167949  0.171990\n",
      "WEST INDIA        0.606490  0.182467  0.211043\n",
      "\n",
      "cluster              0         1         2\n",
      "CustLocation                              \n",
      "bangalore     0.640315  0.166495  0.193191\n",
      "delhi         0.631163  0.156547  0.212290\n",
      "gurgaon       0.595918  0.158578  0.245504\n",
      "mumbai        0.558073  0.192359  0.249568\n",
      "new delhi     0.540978  0.180693  0.278329\n",
      "\n"
     ]
    }
   ],
   "source": [
    "categorical_cols=['CustGender','City Size','Region', 'CustLocation']\n",
    "for col in categorical_cols:\n",
    "    if customers_df_sample[col].nunique()<10:\n",
    "        print(customers_df_sample.groupby(col)\\\n",
    "        .apply(lambda x: x['cluster'].value_counts(normalize=True).reindex([0,1,2])))\n",
    "        print('')\n",
    "    else:\n",
    "        # Get the cluster distribution for the top 5 most frequent values in the feature\n",
    "        customers_df_sample_top_5=\\\n",
    "        customers_df_sample[customers_df_sample[col].isin(customers_df_sample[col].value_counts()[:5].index)]\n",
    "        print(customers_df_sample_top_5.groupby(col)\\\n",
    "        .apply(lambda x: x['cluster'].value_counts(normalize=True).reindex([0,1,2])))\n",
    "        print('')"
   ]
  },
  {
   "cell_type": "markdown",
   "id": "0b2fe835",
   "metadata": {},
   "source": [
    "Visualizing the proportions of each cluster for each category"
   ]
  },
  {
   "cell_type": "code",
   "execution_count": 69,
   "id": "b68aed1e",
   "metadata": {},
   "outputs": [
    {
     "data": {
      "image/png": "[encoded data removed]",
      "text/plain": [
       "<Figure size 1584x1584 with 4 Axes>"
      ]
     },
     "metadata": {
      "needs_background": "light"
     },
     "output_type": "display_data"
    }
   ],
   "source": [
    "categorical_cols=['CustGender','City Size','Region', 'CustLocation']\n",
    "fig, axes = plt.subplots(2, 2, figsize = (22, 22))\n",
    "plt.rc('font', size=15)          # controls default text sizes\n",
    "plt.rc('axes', titlesize=15)     # fontsize of the axes title\n",
    "plt.rc('axes', labelsize=15)    # fontsize of the x and y labels\n",
    "plt.rc('xtick', labelsize=15)    # fontsize of the tick labels\n",
    "plt.rc('ytick', labelsize=15)    # fontsize of the tick labels\n",
    "plt.rc('legend', fontsize=15)    # legend fontsize\n",
    "plt.rc('figure', titlesize=30)  # fontsize of the figure title\n",
    "for index, column in enumerate(categorical_cols):\n",
    "    row=index//2\n",
    "    col=index%2\n",
    "    if customers_df_sample[column].nunique()<10:\n",
    "        customers_df_sample.groupby(column)\\\n",
    "         .apply(lambda x: x['cluster'].value_counts(normalize=True).reindex([0,1,2])).plot(kind='bar', ax=axes[row,col]);\n",
    "    else:\n",
    "        # Get the cluster distribution for the top 5 most frequent values in the feature\n",
    "        customers_df_sample_top_5=\\\n",
    "        customers_df_sample[customers_df_sample[column].isin(customers_df_sample[column].value_counts()[:5].index)]\n",
    "        customers_df_sample_top_5.groupby(column)\\\n",
    "        .apply(lambda x: x['cluster'].value_counts(normalize=True).reindex([0,1,2])).plot(kind='bar', ax=axes[row,col]);"
   ]
  },
  {
   "cell_type": "markdown",
   "id": "6c3e50ed",
   "metadata": {},
   "source": [
    "<a id='10.1'></a>\n",
    "### 10.1 Key Insights"
   ]
  },
  {
   "cell_type": "markdown",
   "id": "0a2d01f8",
   "metadata": {},
   "source": [
    "1. There are enormous account balance disparities in the customer base, with cluster 2 having a much higher average account balance than the others. This could indicate that cluster 2 has a strong ability to save money by saving more than they spend.<br>\n",
    "2. Customers with the largest account balances do not spend the most. It is cluster 1 (medium account balances) that have the largest average transaction amounts. This could indicate high income and high spender, but inability to save money<br>\n",
    "3. Given that cluster 0 has the least in savings and spends the least, it is likely that this group also has lower incomes. With that said, because over 60% of the customer base belongs to cluster 0, this suggests that India still likely has a large issue with income disparity and that the majority of bank customers in the country are not very well off.\n",
    "4. Cluster 0 (low account balance) group also has the lowest average age, at 28.9 compared to 33.7 and 35 for cluster 1 and 2 respectively. This could be because building wealth takes time, with incomes and hence savings growing as you get older. <br>\n",
    "5. The differences in the average number of transactions and the average time of day a transaction is made between the clusters are negligible. <br>\n",
    "6. North and West India has the largest proportion of cluster 2 customers. Northeast India has the largest proportion of cluster 1 customers. On the other hand, South India has the largest proportion of cluster 0. <br>\n",
    "7. New Delhi, Mumbai, and Gurgaon, which consist of the country capital as well as the largest and third financial hubs in India respectively, have a relatively high proportion of cluster 2 customers. <br>\n",
    "8. There is an inverse relationship between wealth and the city size the customer lives in. Large cities have a slightly larger proportion of bank customers that belong to cluster 2 while the smaller cities have a slightly larger segment of customers in customer 0. This is likely indicative of the urban rural divide. <br>\n",
    "9. Female clientele have a slightly larger proportion of bank customers that belong to the cluster 1 and 2 while male clientele have a slightly larger segment of customers in cluster 0."
   ]
  },
  {
   "cell_type": "markdown",
   "id": "04f37977",
   "metadata": {},
   "source": [
    "<a id='10.2'></a>\n",
    "### 10.2 Cluster Groups"
   ]
  },
  {
   "attachments": {
    "image.png": {
     "image/png": "[encoded data removed]"
    }
   },
   "cell_type": "markdown",
   "id": "eaddec19",
   "metadata": {},
   "source": [
    "![image.png](attachment:image.png)"
   ]
  },
  {
   "cell_type": "markdown",
   "id": "371e6fa2",
   "metadata": {},
   "source": [
    "<a id='10.3'></a>\n",
    "### 10.3 Cluster Specific Marketing Strategies\n",
    "\n",
    "The assumption is that for the various recommendations I have provided, that the bank has not implemented any of them. Because the bank is not specified, it is not possible to research whether these recommendations have actually been implemented in real life.\n",
    "\n",
    "**Important Note:** As a disclaimer, given that there are not very many features in this dataset (eg. we lack information about the customer's income), some of these recommendations are based on high level assumptions. Thus, if there were more features that provide more granular information on the customer, these recommendations will likely be different."
   ]
  },
  {
   "cell_type": "markdown",
   "id": "99d8204c",
   "metadata": {},
   "source": [
    "**Cluster 0**<br>\n",
    "\n",
    "\n",
    "\n",
    "\n",
    "1. This group may be underutilizing banking services, or underbanked, given the younger average age and likely lower incomes. With that said, providing this group with the knowledge of basic banking products and servies by issuing informational pamphlets and/or providing opportunities to consult with financial advisors will enable this group to make full use of the services the bank provides. <br>source: https://www.abacademies.org/articles/the-use-of-banking-products-and-services-by-lowincome-and-underbanked-consumers-in-the-nelson-mandela-bay-8119.html <br>\n",
    "2. Banking products and services marketed should be affordable and cost effective, such as checking accounts with low minimum account balances and debit accounts that do not require a minimum balance. <br>source 1: https://www.ublocal.com/guide-managing-bank-account/ <br>source 2: https://loanscanada.ca/money/is-your-bank-preying-on-you/ <br>\n",
    "3. Because lower income individuals tend to be less likely to have a credit history, credit cards for low income individuals could have details such as a very low or even no income requirement, no annual fees, etc. <br>source: https://www.ratehub.ca/blog/the-6-best-credit-cards-for-low-income-in-canada-2021/ <br>\n",
    "4. Given the younger age of this segment compared to the other two, this group is more likely to be tech savvy. This group is more likely to be receptive of digital banking products and services, such as using financial services from mobile phones, automatic payments, and online monitoring of records. This is further supported by a study that in neighbouring Bangladesh, mobile banking is on the rise in rural and low income areas. <br>source 1: https://theasiadialogue.com/2018/10/18/designing-better-financial-products-for-low-income-populations/ <br>source 2: https://tavaga.com/blog/digital-banking-and-its-foray-into-the-banking-sector/ <br>\n",
    "\n",
    "\n",
    "\n",
    "**Cluster 1** <br>\n",
    "\n",
    "1. Increase daily deposit, withdrawal and POS transaction limits as this cluster transacts and thus spends the most. <br> source: https://www.investopedia.com/articles/managing-wealth/050716/10-checking-accounts-ultra-rich-use.asp <br>\n",
    "2. As this cluster tends to spend the most, targeting with gold/platinum credit cards may be attractive to this segment. Platinum credit cards have higher credit limits and have more attractive rewards that can be appealing to this group. Gold/platinum credit cards have rewards such as higher cashback rates. <br>source: https://www.analyticsvidhya.com/blog/2021/03/customer-profiling-and-segmentation-an-analytical-approach-to-business-strategy-in-retail-banking/<br>\n",
    "3. Given that the average age is 34 for this group, this group is likely to be starting families and planning for retirement. Thus, RESP savings accounts, pension plans, life and/or health insurance can be marketed to this group.<br>source: https://www.analyticsvidhya.com/blog/2021/03/customer-profiling-and-segmentation-an-analytical-approach-to-business-strategy-in-retail-banking/<br>\n",
    "\n",
    "**Cluster 2** <br>\n",
    "\n",
    "1. Target with savings accounts that have higher interest rates as this group has a propensity to save. <br>source: https://www.analyticsvidhya.com/blog/2021/03/customer-profiling-and-segmentation-an-analytical-approach-to-business-strategy-in-retail-banking/<br>\n",
    "2. Provide a minimum balance requirement that waves monthly fees when a balance threshold is met so that this group is incentivized to save their money. <br> https://www.investopedia.com/articles/managing-wealth/050716/10-checking-accounts-ultra-rich-use.asp<br>\n",
    "3. Provide tailored financial services. Given that this group is more likely to invest with their large savings, they will likely require advice from wealth professionals on how they can best invest and save their money.<br>source: https://www.insiderintelligence.com/insights/what-high-net-worth-investors-want-from-wealth-managers/<br>\n",
    "4. Given that the average age is 35 for this group, this group is likely to be starting families and planning for retirement. Thus, RESP savings accounts, pension plans, life and/or health insurance can be marketed to this group.<br>source: https://www.analyticsvidhya.com/blog/2021/03/customer-profiling-and-segmentation-an-analytical-approach-to-business-strategy-in-retail-banking/<br>\n",
    "5. Given that this group is more likely to be starting families, buying houses, and investing, targeting this group with real estate investment options will be a likely sell."
   ]
  },
  {
   "cell_type": "markdown",
   "id": "2c2a8ef5",
   "metadata": {},
   "source": [
    "<a id='10.4'></a>\n",
    "### 10.4 Customer Acquisition Strategies"
   ]
  },
  {
   "cell_type": "markdown",
   "id": "59e44b84",
   "metadata": {},
   "source": [
    "Cluster 2 customers are very important to the bank's operations as the bank needs the customers' deposits to lend to their borrowers and collect interest. Maintaining the loyalty of cluster 2 customers loyal is paramount to the bank's success. <br><br>\n",
    "1. North and West India have the highest relative proportion of customers in cluster 2. When researching a GDP per capita report, it is not only North and West India that have relative high GDP per capita. South India also has various states that have a relatively high GDP per capita. However, the distribution of customers by segment suggest otherwise, as South India has the largest proportion of cluster 0 clients. This suggests that based on the GDP per capita findings, there is a major opportunity to recruit cluster 2 type clients from South India and that customer acquisition efforts for these two segments should be focused on South India. <br> Source: https://en.wikipedia.org/wiki/List_of_Indian_states_and_union_territories_by_GDP_per_capita <br>\n",
    "2. Acquiring customers from the major cities, specifically from major financial and IT hubs, such as Mumbai and Gurgaon respectively, will likely increase the proportion of cluster 2 clients. <br> Source: Wikipedia <br>\n",
    "3. As cluster 2 customers tend to be 35 or above, attracting customers in this age group will enable the bank to reach its goals. <br>"
   ]
  }
 ],
 "metadata": {
  "kernelspec": {
   "display_name": "Python 3",
   "language": "python",
   "name": "python3"
  },
  "language_info": {
   "codemirror_mode": {
    "name": "ipython",
    "version": 3
   },
   "file_extension": ".py",
   "mimetype": "text/x-python",
   "name": "python",
   "nbconvert_exporter": "python",
   "pygments_lexer": "ipython3",
   "version": "3.8.8"
  }
 },
 "nbformat": 4,
 "nbformat_minor": 5
}
